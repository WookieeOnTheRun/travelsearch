{
 "cells": [
  {
   "cell_type": "code",
   "execution_count": 13,
   "metadata": {
    "collapsed": true
   },
   "outputs": [],
   "source": [
    "# import libraries\n",
    "\n",
    "import pandas as pd\n",
    "\n",
    "import sys\n",
    "\n",
    "from sqlalchemy import create_engine, MetaData, Table, select, engine"
   ]
  },
  {
   "cell_type": "code",
   "execution_count": 14,
   "metadata": {},
   "outputs": [
    {
     "name": "stdout",
     "output_type": "stream",
     "text": [
      "Type correctly formatted query: select top 10 * from dbo.customer;\n",
      "Empty DataFrame\n",
      "Columns: [cx_id, cx_lastnm, cx_firstnm, cx_midinit, cx_email, cx_insert_date, cx_update_date]\n",
      "Index: []\n"
     ]
    }
   ],
   "source": [
    "# parameters\n",
    "\n",
    "server = \"localhost\\sqlexpress\"\n",
    "\n",
    "db = \"travelsearch\"\n",
    "\n",
    "driver = \"driver=SQL Server Native Client 11.0\"\n",
    "\n",
    "# Create the connection\n",
    "engine = create_engine( \"mssql+pyodbc://\" + server + \"/\" + db + \"?\" + driver )\n",
    "\n",
    "sql = input( \"Type correctly formatted query: \" )\n",
    "\n",
    "df = pd.read_sql_query( sql, engine )\n",
    "\n",
    "print( df.head( 10 ) )"
   ]
  }
 ],
 "metadata": {
  "kernelspec": {
   "display_name": "Python 3",
   "language": "python",
   "name": "python3"
  },
  "language_info": {
   "codemirror_mode": {
    "name": "ipython",
    "version": 3
   },
   "file_extension": ".py",
   "mimetype": "text/x-python",
   "name": "python",
   "nbconvert_exporter": "python",
   "pygments_lexer": "ipython3",
   "version": "3.6.3"
  }
 },
 "nbformat": 4,
 "nbformat_minor": 2
}
